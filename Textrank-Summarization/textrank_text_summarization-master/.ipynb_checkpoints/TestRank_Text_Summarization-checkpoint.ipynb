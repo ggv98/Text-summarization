{
 "cells": [
  {
   "cell_type": "markdown",
   "metadata": {
    "colab_type": "text",
    "id": "view-in-github"
   },
   "source": [
    "<a href=\"https://colab.research.google.com/github/prateekjoshi565/textrank_text_summarization/blob/master/TestRank_Text_Summarization.ipynb\" target=\"_parent\"><img src=\"https://colab.research.google.com/assets/colab-badge.svg\" alt=\"Open In Colab\"/></a>"
   ]
  },
  {
   "cell_type": "code",
   "execution_count": 53,
   "metadata": {
    "colab": {
     "base_uri": "https://localhost:8080/",
     "height": 54
    },
    "colab_type": "code",
    "id": "WeptlGXN2MnF",
    "outputId": "781281df-51c3-4729-fe6c-7c8401925582"
   },
   "outputs": [
    {
     "name": "stderr",
     "output_type": "stream",
     "text": [
      "[nltk_data] Downloading package punkt to\n",
      "[nltk_data]     C:\\Users\\GeorgiVankov\\AppData\\Roaming\\nltk_data...\n",
      "[nltk_data]   Package punkt is already up-to-date!\n"
     ]
    }
   ],
   "source": [
    "import numpy as np\n",
    "import pandas as pd\n",
    "import nltk\n",
    "from nltk.tokenize import sent_tokenize\n",
    "nltk.download('punkt') # one time execution\n",
    "import re"
   ]
  },
  {
   "cell_type": "code",
   "execution_count": null,
   "metadata": {
    "colab": {
     "base_uri": "https://localhost:8080/",
     "height": 73,
     "resources": {
      "http://localhost:8080/nbextensions/google.colab/files.js": {
       "data": "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",
       "headers": [
        [
         "content-type",
         "application/javascript"
        ]
       ],
       "ok": true,
       "status": 200,
       "status_text": ""
      }
     }
    },
    "colab_type": "code",
    "id": "z_aSx78ZGpcN",
    "outputId": "32e20085-b599-4739-9521-6c5587ba6a50"
   },
   "outputs": [],
   "source": []
  },
  {
   "cell_type": "code",
   "execution_count": 54,
   "metadata": {
    "colab": {},
    "colab_type": "code",
    "id": "_5FvQ9LHGtja"
   },
   "outputs": [],
   "source": [
    "# Read the CSV file\n",
    "import io\n",
    "df = pd.read_csv(\"tennis_articles_v4.csv\", header=None, dtype=object)"
   ]
  },
  {
   "cell_type": "code",
   "execution_count": 55,
   "metadata": {
    "colab": {
     "base_uri": "https://localhost:8080/",
     "height": 198
    },
    "colab_type": "code",
    "id": "hm6pa5Af4qbE",
    "outputId": "7bf41859-f291-44ae-a785-12cd486a53a1"
   },
   "outputs": [
    {
     "data": {
      "text/html": [
       "<div>\n",
       "<style scoped>\n",
       "    .dataframe tbody tr th:only-of-type {\n",
       "        vertical-align: middle;\n",
       "    }\n",
       "\n",
       "    .dataframe tbody tr th {\n",
       "        vertical-align: top;\n",
       "    }\n",
       "\n",
       "    .dataframe thead th {\n",
       "        text-align: right;\n",
       "    }\n",
       "</style>\n",
       "<table border=\"1\" class=\"dataframe\">\n",
       "  <thead>\n",
       "    <tr style=\"text-align: right;\">\n",
       "      <th></th>\n",
       "      <th>0</th>\n",
       "      <th>1</th>\n",
       "      <th>2</th>\n",
       "    </tr>\n",
       "  </thead>\n",
       "  <tbody>\n",
       "    <tr>\n",
       "      <th>0</th>\n",
       "      <td>article_id</td>\n",
       "      <td>article_text</td>\n",
       "      <td>source</td>\n",
       "    </tr>\n",
       "    <tr>\n",
       "      <th>1</th>\n",
       "      <td>1</td>\n",
       "      <td>Maria Sharapova has basically no friends as te...</td>\n",
       "      <td>https://www.tennisworldusa.org/tennis/news/Mar...</td>\n",
       "    </tr>\n",
       "    <tr>\n",
       "      <th>2</th>\n",
       "      <td>2</td>\n",
       "      <td>BASEL, Switzerland (AP), Roger Federer advance...</td>\n",
       "      <td>http://www.tennis.com/pro-game/2018/10/copil-s...</td>\n",
       "    </tr>\n",
       "    <tr>\n",
       "      <th>3</th>\n",
       "      <td>3</td>\n",
       "      <td>Roger Federer has revealed that organisers of ...</td>\n",
       "      <td>https://scroll.in/field/899938/tennis-roger-fe...</td>\n",
       "    </tr>\n",
       "    <tr>\n",
       "      <th>4</th>\n",
       "      <td>4</td>\n",
       "      <td>Kei Nishikori will try to end his long losing ...</td>\n",
       "      <td>http://www.tennis.com/pro-game/2018/10/nishiko...</td>\n",
       "    </tr>\n",
       "  </tbody>\n",
       "</table>\n",
       "</div>"
      ],
      "text/plain": [
       "            0                                                  1  \\\n",
       "0  article_id                                       article_text   \n",
       "1           1  Maria Sharapova has basically no friends as te...   \n",
       "2           2  BASEL, Switzerland (AP), Roger Federer advance...   \n",
       "3           3  Roger Federer has revealed that organisers of ...   \n",
       "4           4  Kei Nishikori will try to end his long losing ...   \n",
       "\n",
       "                                                   2  \n",
       "0                                             source  \n",
       "1  https://www.tennisworldusa.org/tennis/news/Mar...  \n",
       "2  http://www.tennis.com/pro-game/2018/10/copil-s...  \n",
       "3  https://scroll.in/field/899938/tennis-roger-fe...  \n",
       "4  http://www.tennis.com/pro-game/2018/10/nishiko...  "
      ]
     },
     "execution_count": 55,
     "metadata": {},
     "output_type": "execute_result"
    }
   ],
   "source": [
    "df.head()"
   ]
  },
  {
   "cell_type": "code",
   "execution_count": 56,
   "metadata": {
    "colab": {},
    "colab_type": "code",
    "id": "eZVoc3R6G9a8"
   },
   "outputs": [
    {
     "name": "stdout",
     "output_type": "stream",
     "text": [
      "[['article_text'], ['Maria Sharapova has basically no friends as tennis players on the WTA Tour.', \"The Russian player has no problems in openly speaking about it and in a recent interview she said: 'I don't really hide any feelings too much.\", 'I think everyone knows this is my job here.', \"When I'm on the courts or when I'm on the court playing, I'm a competitor and I want to beat every single person whether they're in the locker room or across the net.So I'm not the one to strike up a conversation about the weather and know that in the next few minutes I have to go and try to win a tennis match.\", \"I'm a pretty competitive girl.\", \"I say my hellos, but I'm not sending any players flowers as well.\", \"Uhm, I'm not really friendly or close to many players.\", \"I have not a lot of friends away from the courts.'\", 'When she said she is not really close to a lot of players, is that something strategic that she is doing?', \"Is it different on the men's tour than the women's tour?\", \"'No, not at all.\", \"I think just because you're in the same sport doesn't mean that you have to be friends with everyone just because you're categorized, you're a tennis player, so you're going to get along with tennis players.\", 'I think every person has different interests.', \"I have friends that have completely different jobs and interests, and I've met them in very different parts of my life.\", \"I think everyone just thinks because we're tennis players we should be the greatest of friends.\", 'But ultimately tennis is just a very small part of what we do.', \"There are so many other things that we're interested in, that we do.'\"], ['BASEL, Switzerland (AP), Roger Federer advanced to the 14th Swiss Indoors final of his career by beating seventh-seeded Daniil Medvedev 6-1, 6-4 on Saturday.', 'Seeking a ninth title at his hometown event, and a 99th overall, Federer will play 93th-ranked Marius Copil on Sunday.', 'Federer dominated the 20th-ranked Medvedev and had his first match-point chance to break serve again at 5-1.', \"He then dropped his serve to love, and let another match point slip in Medvedev's next service game by netting a backhand.\", 'He clinched on his fourth chance when Medvedev netted from the baseline.', 'Copil upset expectations of a Federer final against Alexander Zverev in a 6-3, 6-7 (6), 6-4 win over the fifth-ranked German in the earlier semifinal.', 'The Romanian aims for a first title after arriving at Basel without a career win over a top-10 opponent.', 'Copil has two after also beating No.', '6 Marin Cilic in the second round.', 'Copil fired 26 aces past Zverev and never dropped serve, clinching after 2 1/2 hours with a forehand volley winner to break Zverev for the second time in the semifinal.', \"He came through two rounds of qualifying last weekend to reach the Basel main draw, including beating Zverev's older brother, Mischa.\", 'Federer had an easier time than in his only previous match against Medvedev, a three-setter at Shanghai two weeks ago.'], ['Roger Federer has revealed that organisers of the re-launched and condensed Davis Cup gave him three days to decide if he would commit to the controversial competition.', 'Speaking at the Swiss Indoors tournament where he will play in Sundays final against Romanian qualifier Marius Copil, the world number three said that given the impossibly short time frame to make a decision, he opted out of any commitment.', '\"They only left me three days to decide\", Federer said.', '\"I didn\\'t to have time to consult with all the people I had to consult.', '\"I could not make a decision in that time, so I told them to do what they wanted.\"', 'The 20-time Grand Slam champion has voiced doubts about the wisdom of the one-week format to be introduced by organisers Kosmos, who have promised the International Tennis Federation up to $3 billion in prize money over the next quarter-century.', 'The competition is set to feature 18 countries in the November 18-24 finals in Madrid next year, and will replace the classic home-and-away ties played four times per year for decades.', 'Kosmos is headed by Barcelona footballer Gerard Pique, who is hoping fellow Spaniard Rafael Nadal will play in the upcoming event.', \"Novak Djokovic has said he will give precedence to the ATP's intended re-launch of the defunct World Team Cup in January 2020, at various Australian venues.\", 'Major players feel that a big event in late November combined with one in January before the Australian Open will mean too much tennis and too little rest.', 'Federer said earlier this month in Shanghai in that his chances of playing the Davis Cup were all but non-existent.', '\"I highly doubt it, of course.', 'We will see what happens,\" he said.', '\"I do not think this was designed for me, anyhow.', 'This was designed for the future generation of players.\"', 'Argentina and Britain received wild cards to the new-look event, and will compete along with the four 2018 semi-finalists and the 12 teams who win qualifying rounds next February.', '\"I don\\'t like being under that kind of pressure,\" Federer said of the deadline Kosmos handed him.'], ['Kei Nishikori will try to end his long losing streak in ATP finals and Kevin Anderson will go for his second title of the year at the Erste Bank Open on Sunday.', 'The fifth-seeded Nishikori reached his third final of 2018 after beating Mikhail Kukushkin of Kazakhstan 6-4, 6-3 in the semifinals.', \"A winner of 11 ATP events, Nishikori hasn't triumphed since winning in Memphis in February 2016.\", 'He has lost eight straight finals since.', 'The second-seeded Anderson defeated Fernando Verdasco 6-3, 3-6, 6-4.', 'Anderson has a shot at a fifth career title and second of the year after winning in New York in February.', 'Nishikori leads Anderson 4-2 on career matchups, but the South African won their only previous meeting this year.', 'With a victory on Sunday, Anderson will qualify for the ATP Finals.', 'Currently in ninth place, Nishikori with a win could move to within 125 points of the cut for the eight-man event in London next month.', 'Nishikori held serve throughout against Kukushkin, who came through qualifying.', 'He used his first break point to close out the first set before going up 3-0 in the second and wrapping up the win on his first match point.', 'Against Verdasco, Anderson hit nine of his 19 aces in the opening set.', \"The Spaniard broke Anderson twice in the second but didn't get another chance on the South African's serve in the final set.\"], ['Federer, 37, first broke through on tour over two decades ago and he has since gone on to enjoy a glittering career.', 'The 20-time Grand Slam winner is chasing his 99th ATP title at the Swiss Indoors this week and he faces Jan-Lennard Struff in the second round on Thursday (6pm BST).', 'Davenport enjoyed most of her success in the late 1990s and her third and final major tournament win came at the 2000 Australian Open.', 'But she claims the mentality of professional tennis players slowly began to change after the new millennium.', '\"It seems pretty friendly right now,\" said Davenport.', '\"I think there is a really nice environment and a great atmosphere, especially between some of the veteran players helping some of the younger players out.', '\"It\\'s a very pleasant atmosphere, I\\'d have to say, around the locker rooms.', '\"I felt like the best weeks that I had to get to know players when I was playing were the Fed Cup weeks or the Olympic weeks, not necessarily during the tournaments.', '\"And even though maybe we had smaller teams, I still think we kept to ourselves quite a bit.', '\"Not always, but I really feel like in the mid-2000 years there was a huge shift of the attitudes of the top players and being more friendly and being more giving, and a lot of that had to do with players like Roger coming up.', '\"I just felt like it really kind of changed where people were a little bit, definitely in the 90s, a lot more quiet, into themselves, and then it started to become better.\"', 'Meanwhile, Federer is hoping he can improve his service game as he hunts his ninth Swiss Indoors title this week.', '\"I didn\\'t serve very well [against first-round opponent Filip Kranjovic,\" Federer said.', '\"I think I was misfiring the corners, I was not hitting the lines enough.', '\"Clearly you make your life more difficult, but still I was up 6-2, 3-1, break points, so things could have ended very quickly today, even though I didn\\'t have the best serve percentage stats.', '\"But maybe that\\'s exactly what caught up to me eventually.', \"It's just getting used to it.\", 'This is where the first rounds can be tricky.\"'], ['Nadal has not played tennis since he was forced to retire from the US Open semi-finals against Juan Martin Del Porto with a knee injury.', \"The world No 1 has been forced to miss Spain's Davis Cup clash with France and the Asian hard court season.\", 'But with the ATP World Tour Finals due to begin next month, Nadal is ready to prove his fitness before the season-ending event at the 02 Arena.', 'Nadal flew to Paris on Friday and footage from the Paris Masters official Twitter account shows the Spaniard smiling as he strides onto court for practice.', 'The Paris Masters draw has been made and Nadal will start his campaign on Tuesday or Wednesday against either Fernando Verdasco or Jeremy Chardy.', 'Nadal could then play defending champion Jack Sock in the third round before a potential quarter-final with either Borna Coric or Dominic Thiem.', \"Nadal's appearance in Paris is a big boost to the tournament organisers who could see Roger Federer withdraw.\", 'Federer is in action at the Swiss Indoors in Basel and if he reaches the final, he could pull out of Paris in a bid to stay fresh for London.', 'But as it stands, Federer is in the draw and is scheduled to face either former world No 3 Milos Raonic or Jo-Wilfried Tsonga in the second round.', \"Federer's projected route to the Paris final could also lead to matches against Kevin Anderson and Novak Djokovic.\", 'Djokovic could play Marco Cecchinato in the second round.', 'British No 1 Kyle Edmund is the 12th seed in Paris and will get underway in round two against either Karen Khachanov or Filip Krajinovic.'], ['Tennis giveth, and tennis taketh away.', 'The end of the season is finally in sight, and with so many players defending,or losing,huge chunks of points in Singapore, Zhuhai and London, podcast co-hosts Nina Pantic and Irina Falconi discuss the art of defending points (02:14).', \"It's no secret that Jack Sock has struggled on the singles court this year (his record is 7-19).\", 'He could lose 1,400 points in the next few weeks, but instead of focusing on the negative, it can all be about perspective (06:28).', \"Let's also not forget his two Grand Slam doubles triumphs this season.\", 'Two players, Stefanos Tsitsipas and Kyle Edmund, won their first career ATP titles last week (13:26).', \"It's a big deal because you never forget your first.\", 'Irina looks back at her WTA title win in Bogota in 2016, and tells an unforgettable story about her semifinal drama (14:04).', 'In Singapore, one of the biggest storylines (aside from the matches, of course) has been the on-court coaching debate.', 'Nina and Irina give their opinions on what coaching should look like in the future, on both tours (18:55).'], ['Federer won the Swiss Indoors last week by beating Romanian qualifier Marius Copil in the final.', 'The 37-year-old claimed his 99th ATP title and is hunting the century in the French capital this week.', 'Federer has been handed a difficult draw where could could come across Kevin Anderson, Novak Djokovic and Rafael Nadal in the latter rounds.', 'But first the 20-time Grand Slam winner wants to train on the Paris Masters court this afternoon before deciding whether to appear for his opening match against either Milos Raonic or Jo-Wilfried Tsonga.', '\"On Monday, I am free and will look how I feel,\" Federer said after winning the Swiss Indoors.', '\"On Tuesday I will fly to Paris and train in the afternoon to be ready for my first match on Wednesday night.', '\"I felt good all week and better every day.', '\"We also had the impression that at this stage it might be better to play matches than to train.', '\"And as long as I fear no injury, I play.\"', \"Federer's success in Basel last week was the ninth time he has won his hometown tournament.\", 'And he was delighted to be watched on by all of his family and friends as he purchased 60 tickets for the final for those dearest to him.', '\"My children, my parents, my sister and my team are all there,\" Federer added.', '\"It is always very emotional for me to thank my team.', 'And sometimes it tilts with the emotions, sometimes I just stumble.', '\"It means the world to me.', 'It makes me incredibly happy to win my home tournament and make people happy here.', '\"I do not know if it\\'s maybe my last title, so today I try a lot more to absorb that and enjoy the moments much more consciously.', '\"Maybe I should celebrate as if it were my last title.', '\"There are very touching moments: seeing the ball children, the standing ovations, all the familiar faces in the audience.', 'Because it was not always easy in the last weeks.\"']]\n"
     ]
    }
   ],
   "source": [
    "# split the the text in the articles into sentences\n",
    "sentences = []\n",
    "for s in df[1]:\n",
    "  sentences.append(sent_tokenize(s))  \n",
    "print(sentences)"
   ]
  },
  {
   "cell_type": "code",
   "execution_count": 57,
   "metadata": {
    "colab": {},
    "colab_type": "code",
    "id": "V_lwimHsHB9l"
   },
   "outputs": [
    {
     "name": "stdout",
     "output_type": "stream",
     "text": [
      "['article_text', 'Maria Sharapova has basically no friends as tennis players on the WTA Tour.', \"The Russian player has no problems in openly speaking about it and in a recent interview she said: 'I don't really hide any feelings too much.\", 'I think everyone knows this is my job here.', \"When I'm on the courts or when I'm on the court playing, I'm a competitor and I want to beat every single person whether they're in the locker room or across the net.So I'm not the one to strike up a conversation about the weather and know that in the next few minutes I have to go and try to win a tennis match.\", \"I'm a pretty competitive girl.\", \"I say my hellos, but I'm not sending any players flowers as well.\", \"Uhm, I'm not really friendly or close to many players.\", \"I have not a lot of friends away from the courts.'\", 'When she said she is not really close to a lot of players, is that something strategic that she is doing?', \"Is it different on the men's tour than the women's tour?\", \"'No, not at all.\", \"I think just because you're in the same sport doesn't mean that you have to be friends with everyone just because you're categorized, you're a tennis player, so you're going to get along with tennis players.\", 'I think every person has different interests.', \"I have friends that have completely different jobs and interests, and I've met them in very different parts of my life.\", \"I think everyone just thinks because we're tennis players we should be the greatest of friends.\", 'But ultimately tennis is just a very small part of what we do.', \"There are so many other things that we're interested in, that we do.'\", 'BASEL, Switzerland (AP), Roger Federer advanced to the 14th Swiss Indoors final of his career by beating seventh-seeded Daniil Medvedev 6-1, 6-4 on Saturday.', 'Seeking a ninth title at his hometown event, and a 99th overall, Federer will play 93th-ranked Marius Copil on Sunday.', 'Federer dominated the 20th-ranked Medvedev and had his first match-point chance to break serve again at 5-1.', \"He then dropped his serve to love, and let another match point slip in Medvedev's next service game by netting a backhand.\", 'He clinched on his fourth chance when Medvedev netted from the baseline.', 'Copil upset expectations of a Federer final against Alexander Zverev in a 6-3, 6-7 (6), 6-4 win over the fifth-ranked German in the earlier semifinal.', 'The Romanian aims for a first title after arriving at Basel without a career win over a top-10 opponent.', 'Copil has two after also beating No.', '6 Marin Cilic in the second round.', 'Copil fired 26 aces past Zverev and never dropped serve, clinching after 2 1/2 hours with a forehand volley winner to break Zverev for the second time in the semifinal.', \"He came through two rounds of qualifying last weekend to reach the Basel main draw, including beating Zverev's older brother, Mischa.\", 'Federer had an easier time than in his only previous match against Medvedev, a three-setter at Shanghai two weeks ago.', 'Roger Federer has revealed that organisers of the re-launched and condensed Davis Cup gave him three days to decide if he would commit to the controversial competition.', 'Speaking at the Swiss Indoors tournament where he will play in Sundays final against Romanian qualifier Marius Copil, the world number three said that given the impossibly short time frame to make a decision, he opted out of any commitment.', '\"They only left me three days to decide\", Federer said.', '\"I didn\\'t to have time to consult with all the people I had to consult.', '\"I could not make a decision in that time, so I told them to do what they wanted.\"', 'The 20-time Grand Slam champion has voiced doubts about the wisdom of the one-week format to be introduced by organisers Kosmos, who have promised the International Tennis Federation up to $3 billion in prize money over the next quarter-century.', 'The competition is set to feature 18 countries in the November 18-24 finals in Madrid next year, and will replace the classic home-and-away ties played four times per year for decades.', 'Kosmos is headed by Barcelona footballer Gerard Pique, who is hoping fellow Spaniard Rafael Nadal will play in the upcoming event.', \"Novak Djokovic has said he will give precedence to the ATP's intended re-launch of the defunct World Team Cup in January 2020, at various Australian venues.\", 'Major players feel that a big event in late November combined with one in January before the Australian Open will mean too much tennis and too little rest.', 'Federer said earlier this month in Shanghai in that his chances of playing the Davis Cup were all but non-existent.', '\"I highly doubt it, of course.', 'We will see what happens,\" he said.', '\"I do not think this was designed for me, anyhow.', 'This was designed for the future generation of players.\"', 'Argentina and Britain received wild cards to the new-look event, and will compete along with the four 2018 semi-finalists and the 12 teams who win qualifying rounds next February.', '\"I don\\'t like being under that kind of pressure,\" Federer said of the deadline Kosmos handed him.', 'Kei Nishikori will try to end his long losing streak in ATP finals and Kevin Anderson will go for his second title of the year at the Erste Bank Open on Sunday.', 'The fifth-seeded Nishikori reached his third final of 2018 after beating Mikhail Kukushkin of Kazakhstan 6-4, 6-3 in the semifinals.', \"A winner of 11 ATP events, Nishikori hasn't triumphed since winning in Memphis in February 2016.\", 'He has lost eight straight finals since.', 'The second-seeded Anderson defeated Fernando Verdasco 6-3, 3-6, 6-4.', 'Anderson has a shot at a fifth career title and second of the year after winning in New York in February.', 'Nishikori leads Anderson 4-2 on career matchups, but the South African won their only previous meeting this year.', 'With a victory on Sunday, Anderson will qualify for the ATP Finals.', 'Currently in ninth place, Nishikori with a win could move to within 125 points of the cut for the eight-man event in London next month.', 'Nishikori held serve throughout against Kukushkin, who came through qualifying.', 'He used his first break point to close out the first set before going up 3-0 in the second and wrapping up the win on his first match point.', 'Against Verdasco, Anderson hit nine of his 19 aces in the opening set.', \"The Spaniard broke Anderson twice in the second but didn't get another chance on the South African's serve in the final set.\", 'Federer, 37, first broke through on tour over two decades ago and he has since gone on to enjoy a glittering career.', 'The 20-time Grand Slam winner is chasing his 99th ATP title at the Swiss Indoors this week and he faces Jan-Lennard Struff in the second round on Thursday (6pm BST).', 'Davenport enjoyed most of her success in the late 1990s and her third and final major tournament win came at the 2000 Australian Open.', 'But she claims the mentality of professional tennis players slowly began to change after the new millennium.', '\"It seems pretty friendly right now,\" said Davenport.', '\"I think there is a really nice environment and a great atmosphere, especially between some of the veteran players helping some of the younger players out.', '\"It\\'s a very pleasant atmosphere, I\\'d have to say, around the locker rooms.', '\"I felt like the best weeks that I had to get to know players when I was playing were the Fed Cup weeks or the Olympic weeks, not necessarily during the tournaments.', '\"And even though maybe we had smaller teams, I still think we kept to ourselves quite a bit.', '\"Not always, but I really feel like in the mid-2000 years there was a huge shift of the attitudes of the top players and being more friendly and being more giving, and a lot of that had to do with players like Roger coming up.', '\"I just felt like it really kind of changed where people were a little bit, definitely in the 90s, a lot more quiet, into themselves, and then it started to become better.\"', 'Meanwhile, Federer is hoping he can improve his service game as he hunts his ninth Swiss Indoors title this week.', '\"I didn\\'t serve very well [against first-round opponent Filip Kranjovic,\" Federer said.', '\"I think I was misfiring the corners, I was not hitting the lines enough.', '\"Clearly you make your life more difficult, but still I was up 6-2, 3-1, break points, so things could have ended very quickly today, even though I didn\\'t have the best serve percentage stats.', '\"But maybe that\\'s exactly what caught up to me eventually.', \"It's just getting used to it.\", 'This is where the first rounds can be tricky.\"', 'Nadal has not played tennis since he was forced to retire from the US Open semi-finals against Juan Martin Del Porto with a knee injury.', \"The world No 1 has been forced to miss Spain's Davis Cup clash with France and the Asian hard court season.\", 'But with the ATP World Tour Finals due to begin next month, Nadal is ready to prove his fitness before the season-ending event at the 02 Arena.', 'Nadal flew to Paris on Friday and footage from the Paris Masters official Twitter account shows the Spaniard smiling as he strides onto court for practice.', 'The Paris Masters draw has been made and Nadal will start his campaign on Tuesday or Wednesday against either Fernando Verdasco or Jeremy Chardy.', 'Nadal could then play defending champion Jack Sock in the third round before a potential quarter-final with either Borna Coric or Dominic Thiem.', \"Nadal's appearance in Paris is a big boost to the tournament organisers who could see Roger Federer withdraw.\", 'Federer is in action at the Swiss Indoors in Basel and if he reaches the final, he could pull out of Paris in a bid to stay fresh for London.', 'But as it stands, Federer is in the draw and is scheduled to face either former world No 3 Milos Raonic or Jo-Wilfried Tsonga in the second round.', \"Federer's projected route to the Paris final could also lead to matches against Kevin Anderson and Novak Djokovic.\", 'Djokovic could play Marco Cecchinato in the second round.', 'British No 1 Kyle Edmund is the 12th seed in Paris and will get underway in round two against either Karen Khachanov or Filip Krajinovic.', 'Tennis giveth, and tennis taketh away.', 'The end of the season is finally in sight, and with so many players defending,or losing,huge chunks of points in Singapore, Zhuhai and London, podcast co-hosts Nina Pantic and Irina Falconi discuss the art of defending points (02:14).', \"It's no secret that Jack Sock has struggled on the singles court this year (his record is 7-19).\", 'He could lose 1,400 points in the next few weeks, but instead of focusing on the negative, it can all be about perspective (06:28).', \"Let's also not forget his two Grand Slam doubles triumphs this season.\", 'Two players, Stefanos Tsitsipas and Kyle Edmund, won their first career ATP titles last week (13:26).', \"It's a big deal because you never forget your first.\", 'Irina looks back at her WTA title win in Bogota in 2016, and tells an unforgettable story about her semifinal drama (14:04).', 'In Singapore, one of the biggest storylines (aside from the matches, of course) has been the on-court coaching debate.', 'Nina and Irina give their opinions on what coaching should look like in the future, on both tours (18:55).', 'Federer won the Swiss Indoors last week by beating Romanian qualifier Marius Copil in the final.', 'The 37-year-old claimed his 99th ATP title and is hunting the century in the French capital this week.', 'Federer has been handed a difficult draw where could could come across Kevin Anderson, Novak Djokovic and Rafael Nadal in the latter rounds.', 'But first the 20-time Grand Slam winner wants to train on the Paris Masters court this afternoon before deciding whether to appear for his opening match against either Milos Raonic or Jo-Wilfried Tsonga.', '\"On Monday, I am free and will look how I feel,\" Federer said after winning the Swiss Indoors.', '\"On Tuesday I will fly to Paris and train in the afternoon to be ready for my first match on Wednesday night.', '\"I felt good all week and better every day.', '\"We also had the impression that at this stage it might be better to play matches than to train.', '\"And as long as I fear no injury, I play.\"', \"Federer's success in Basel last week was the ninth time he has won his hometown tournament.\", 'And he was delighted to be watched on by all of his family and friends as he purchased 60 tickets for the final for those dearest to him.', '\"My children, my parents, my sister and my team are all there,\" Federer added.', '\"It is always very emotional for me to thank my team.', 'And sometimes it tilts with the emotions, sometimes I just stumble.', '\"It means the world to me.', 'It makes me incredibly happy to win my home tournament and make people happy here.', '\"I do not know if it\\'s maybe my last title, so today I try a lot more to absorb that and enjoy the moments much more consciously.', '\"Maybe I should celebrate as if it were my last title.', '\"There are very touching moments: seeing the ball children, the standing ovations, all the familiar faces in the audience.', 'Because it was not always easy in the last weeks.\"']\n"
     ]
    }
   ],
   "source": [
    "# flatten the list\n",
    "sentences = [y for x in sentences for y in x]\n",
    "print(sentences)"
   ]
  },
  {
   "cell_type": "code",
   "execution_count": 58,
   "metadata": {
    "colab": {},
    "colab_type": "code",
    "id": "iHvW8lKFHV1x"
   },
   "outputs": [
    {
     "name": "stdout",
     "output_type": "stream",
     "text": [
      "0                                           article text\n",
      "1      Maria Sharapova has basically no friends as te...\n",
      "2      The Russian player has no problems in openly s...\n",
      "3            I think everyone knows this is my job here \n",
      "4      When I m on the courts or when I m on the cour...\n",
      "                             ...                        \n",
      "115    It makes me incredibly happy to win my home to...\n",
      "116     I do not know if it s maybe my last title  so...\n",
      "117     Maybe I should celebrate as if it were my las...\n",
      "118     There are very touching moments  seeing the b...\n",
      "119    Because it was not always easy in the last wee...\n",
      "Length: 120, dtype: object\n",
      "['article text', 'maria sharapova has basically no friends as tennis players on the wta tour ', 'the russian player has no problems in openly speaking about it and in a recent interview she said   i don t really hide any feelings too much ', 'i think everyone knows this is my job here ', 'when i m on the courts or when i m on the court playing  i m a competitor and i want to beat every single person whether they re in the locker room or across the net so i m not the one to strike up a conversation about the weather and know that in the next few minutes i have to go and try to win a tennis match ', 'i m a pretty competitive girl ', 'i say my hellos  but i m not sending any players flowers as well ', 'uhm  i m not really friendly or close to many players ', 'i have not a lot of friends away from the courts  ', 'when she said she is not really close to a lot of players  is that something strategic that she is doing ', 'is it different on the men s tour than the women s tour ', ' no  not at all ', 'i think just because you re in the same sport doesn t mean that you have to be friends with everyone just because you re categorized  you re a tennis player  so you re going to get along with tennis players ', 'i think every person has different interests ', 'i have friends that have completely different jobs and interests  and i ve met them in very different parts of my life ', 'i think everyone just thinks because we re tennis players we should be the greatest of friends ', 'but ultimately tennis is just a very small part of what we do ', 'there are so many other things that we re interested in  that we do  ', 'basel  switzerland  ap   roger federer advanced to the   th swiss indoors final of his career by beating seventh seeded daniil medvedev          on saturday ', 'seeking a ninth title at his hometown event  and a   th overall  federer will play   th ranked marius copil on sunday ', 'federer dominated the   th ranked medvedev and had his first match point chance to break serve again at     ', 'he then dropped his serve to love  and let another match point slip in medvedev s next service game by netting a backhand ', 'he clinched on his fourth chance when medvedev netted from the baseline ', 'copil upset expectations of a federer final against alexander zverev in a                   win over the fifth ranked german in the earlier semifinal ', 'the romanian aims for a first title after arriving at basel without a career win over a top    opponent ', 'copil has two after also beating no ', '  marin cilic in the second round ', 'copil fired    aces past zverev and never dropped serve  clinching after       hours with a forehand volley winner to break zverev for the second time in the semifinal ', 'he came through two rounds of qualifying last weekend to reach the basel main draw  including beating zverev s older brother  mischa ', 'federer had an easier time than in his only previous match against medvedev  a three setter at shanghai two weeks ago ', 'roger federer has revealed that organisers of the re launched and condensed davis cup gave him three days to decide if he would commit to the controversial competition ', 'speaking at the swiss indoors tournament where he will play in sundays final against romanian qualifier marius copil  the world number three said that given the impossibly short time frame to make a decision  he opted out of any commitment ', ' they only left me three days to decide   federer said ', ' i didn t to have time to consult with all the people i had to consult ', ' i could not make a decision in that time  so i told them to do what they wanted  ', 'the    time grand slam champion has voiced doubts about the wisdom of the one week format to be introduced by organisers kosmos  who have promised the international tennis federation up to    billion in prize money over the next quarter century ', 'the competition is set to feature    countries in the november       finals in madrid next year  and will replace the classic home and away ties played four times per year for decades ', 'kosmos is headed by barcelona footballer gerard pique  who is hoping fellow spaniard rafael nadal will play in the upcoming event ', 'novak djokovic has said he will give precedence to the atp s intended re launch of the defunct world team cup in january       at various australian venues ', 'major players feel that a big event in late november combined with one in january before the australian open will mean too much tennis and too little rest ', 'federer said earlier this month in shanghai in that his chances of playing the davis cup were all but non existent ', ' i highly doubt it  of course ', 'we will see what happens   he said ', ' i do not think this was designed for me  anyhow ', 'this was designed for the future generation of players  ', 'argentina and britain received wild cards to the new look event  and will compete along with the four      semi finalists and the    teams who win qualifying rounds next february ', ' i don t like being under that kind of pressure   federer said of the deadline kosmos handed him ', 'kei nishikori will try to end his long losing streak in atp finals and kevin anderson will go for his second title of the year at the erste bank open on sunday ', 'the fifth seeded nishikori reached his third final of      after beating mikhail kukushkin of kazakhstan          in the semifinals ', 'a winner of    atp events  nishikori hasn t triumphed since winning in memphis in february      ', 'he has lost eight straight finals since ', 'the second seeded anderson defeated fernando verdasco               ', 'anderson has a shot at a fifth career title and second of the year after winning in new york in february ', 'nishikori leads anderson     on career matchups  but the south african won their only previous meeting this year ', 'with a victory on sunday  anderson will qualify for the atp finals ', 'currently in ninth place  nishikori with a win could move to within     points of the cut for the eight man event in london next month ', 'nishikori held serve throughout against kukushkin  who came through qualifying ', 'he used his first break point to close out the first set before going up     in the second and wrapping up the win on his first match point ', 'against verdasco  anderson hit nine of his    aces in the opening set ', 'the spaniard broke anderson twice in the second but didn t get another chance on the south african s serve in the final set ', 'federer      first broke through on tour over two decades ago and he has since gone on to enjoy a glittering career ', 'the    time grand slam winner is chasing his   th atp title at the swiss indoors this week and he faces jan lennard struff in the second round on thursday   pm bst  ', 'davenport enjoyed most of her success in the late     s and her third and final major tournament win came at the      australian open ', 'but she claims the mentality of professional tennis players slowly began to change after the new millennium ', ' it seems pretty friendly right now   said davenport ', ' i think there is a really nice environment and a great atmosphere  especially between some of the veteran players helping some of the younger players out ', ' it s a very pleasant atmosphere  i d have to say  around the locker rooms ', ' i felt like the best weeks that i had to get to know players when i was playing were the fed cup weeks or the olympic weeks  not necessarily during the tournaments ', ' and even though maybe we had smaller teams  i still think we kept to ourselves quite a bit ', ' not always  but i really feel like in the mid      years there was a huge shift of the attitudes of the top players and being more friendly and being more giving  and a lot of that had to do with players like roger coming up ', ' i just felt like it really kind of changed where people were a little bit  definitely in the   s  a lot more quiet  into themselves  and then it started to become better  ', 'meanwhile  federer is hoping he can improve his service game as he hunts his ninth swiss indoors title this week ', ' i didn t serve very well  against first round opponent filip kranjovic   federer said ', ' i think i was misfiring the corners  i was not hitting the lines enough ', ' clearly you make your life more difficult  but still i was up           break points  so things could have ended very quickly today  even though i didn t have the best serve percentage stats ', ' but maybe that s exactly what caught up to me eventually ', 'it s just getting used to it ', 'this is where the first rounds can be tricky  ', 'nadal has not played tennis since he was forced to retire from the us open semi finals against juan martin del porto with a knee injury ', 'the world no   has been forced to miss spain s davis cup clash with france and the asian hard court season ', 'but with the atp world tour finals due to begin next month  nadal is ready to prove his fitness before the season ending event at the    arena ', 'nadal flew to paris on friday and footage from the paris masters official twitter account shows the spaniard smiling as he strides onto court for practice ', 'the paris masters draw has been made and nadal will start his campaign on tuesday or wednesday against either fernando verdasco or jeremy chardy ', 'nadal could then play defending champion jack sock in the third round before a potential quarter final with either borna coric or dominic thiem ', 'nadal s appearance in paris is a big boost to the tournament organisers who could see roger federer withdraw ', 'federer is in action at the swiss indoors in basel and if he reaches the final  he could pull out of paris in a bid to stay fresh for london ', 'but as it stands  federer is in the draw and is scheduled to face either former world no   milos raonic or jo wilfried tsonga in the second round ', 'federer s projected route to the paris final could also lead to matches against kevin anderson and novak djokovic ', 'djokovic could play marco cecchinato in the second round ', 'british no   kyle edmund is the   th seed in paris and will get underway in round two against either karen khachanov or filip krajinovic ', 'tennis giveth  and tennis taketh away ', 'the end of the season is finally in sight  and with so many players defending or losing huge chunks of points in singapore  zhuhai and london  podcast co hosts nina pantic and irina falconi discuss the art of defending points         ', 'it s no secret that jack sock has struggled on the singles court this year  his record is       ', 'he could lose       points in the next few weeks  but instead of focusing on the negative  it can all be about perspective         ', 'let s also not forget his two grand slam doubles triumphs this season ', 'two players  stefanos tsitsipas and kyle edmund  won their first career atp titles last week         ', 'it s a big deal because you never forget your first ', 'irina looks back at her wta title win in bogota in       and tells an unforgettable story about her semifinal drama         ', 'in singapore  one of the biggest storylines  aside from the matches  of course  has been the on court coaching debate ', 'nina and irina give their opinions on what coaching should look like in the future  on both tours         ', 'federer won the swiss indoors last week by beating romanian qualifier marius copil in the final ', 'the    year old claimed his   th atp title and is hunting the century in the french capital this week ', 'federer has been handed a difficult draw where could could come across kevin anderson  novak djokovic and rafael nadal in the latter rounds ', 'but first the    time grand slam winner wants to train on the paris masters court this afternoon before deciding whether to appear for his opening match against either milos raonic or jo wilfried tsonga ', ' on monday  i am free and will look how i feel   federer said after winning the swiss indoors ', ' on tuesday i will fly to paris and train in the afternoon to be ready for my first match on wednesday night ', ' i felt good all week and better every day ', ' we also had the impression that at this stage it might be better to play matches than to train ', ' and as long as i fear no injury  i play  ', 'federer s success in basel last week was the ninth time he has won his hometown tournament ', 'and he was delighted to be watched on by all of his family and friends as he purchased    tickets for the final for those dearest to him ', ' my children  my parents  my sister and my team are all there   federer added ', ' it is always very emotional for me to thank my team ', 'and sometimes it tilts with the emotions  sometimes i just stumble ', ' it means the world to me ', 'it makes me incredibly happy to win my home tournament and make people happy here ', ' i do not know if it s maybe my last title  so today i try a lot more to absorb that and enjoy the moments much more consciously ', ' maybe i should celebrate as if it were my last title ', ' there are very touching moments  seeing the ball children  the standing ovations  all the familiar faces in the audience ', 'because it was not always easy in the last weeks  ']\n"
     ]
    }
   ],
   "source": [
    "# remove punctuations, numbers and special characters\n",
    "clean_sentences = pd.Series(sentences).str.replace(\"[^a-zA-Z]\", \" \")\n",
    "print(clean_sentences)\n",
    "\n",
    "# make alphabets lowercase\n",
    "clean_sentences = [s.lower() for s in clean_sentences]\n",
    "print(clean_sentences)"
   ]
  },
  {
   "cell_type": "code",
   "execution_count": 59,
   "metadata": {
    "colab": {
     "base_uri": "https://localhost:8080/",
     "height": 72
    },
    "colab_type": "code",
    "id": "iPBZsdeWHlHf",
    "outputId": "80775577-1018-423b-9fc5-abfe52aebb88"
   },
   "outputs": [
    {
     "name": "stderr",
     "output_type": "stream",
     "text": [
      "[nltk_data] Downloading package stopwords to\n",
      "[nltk_data]     C:\\Users\\GeorgiVankov\\AppData\\Roaming\\nltk_data...\n",
      "[nltk_data]   Package stopwords is already up-to-date!\n"
     ]
    },
    {
     "data": {
      "text/plain": [
       "True"
      ]
     },
     "execution_count": 59,
     "metadata": {},
     "output_type": "execute_result"
    }
   ],
   "source": [
    "nltk.download('stopwords')# one time execution"
   ]
  },
  {
   "cell_type": "code",
   "execution_count": 60,
   "metadata": {
    "colab": {},
    "colab_type": "code",
    "id": "UKk_3HZ-Idjm"
   },
   "outputs": [],
   "source": [
    "from nltk.corpus import stopwords\n",
    "stop_words = stopwords.words('english')"
   ]
  },
  {
   "cell_type": "code",
   "execution_count": 61,
   "metadata": {
    "colab": {},
    "colab_type": "code",
    "id": "RX_NFApzIkmC"
   },
   "outputs": [],
   "source": [
    "# function to remove stopwords\n",
    "def remove_stopwords(sen):\n",
    "  sen_new = \" \".join([i for i in sen if i not in stop_words])\n",
    "  return sen_new"
   ]
  },
  {
   "cell_type": "code",
   "execution_count": 62,
   "metadata": {
    "colab": {},
    "colab_type": "code",
    "id": "OcFap_w9Ivob"
   },
   "outputs": [
    {
     "name": "stdout",
     "output_type": "stream",
     "text": [
      "['article text', 'maria sharapova basically friends tennis players wta tour', 'russian player problems openly speaking recent interview said really hide feelings much', 'think everyone knows job', 'courts court playing competitor want beat every single person whether locker room across net one strike conversation weather know next minutes go try win tennis match', 'pretty competitive girl', 'say hellos sending players flowers well', 'uhm really friendly close many players', 'lot friends away courts', 'said really close lot players something strategic', 'different men tour women tour', '', 'think sport mean friends everyone categorized tennis player going get along tennis players', 'think every person different interests', 'friends completely different jobs interests met different parts life', 'think everyone thinks tennis players greatest friends', 'ultimately tennis small part', 'many things interested', 'basel switzerland ap roger federer advanced th swiss indoors final career beating seventh seeded daniil medvedev saturday', 'seeking ninth title hometown event th overall federer play th ranked marius copil sunday', 'federer dominated th ranked medvedev first match point chance break serve', 'dropped serve love let another match point slip medvedev next service game netting backhand', 'clinched fourth chance medvedev netted baseline', 'copil upset expectations federer final alexander zverev win fifth ranked german earlier semifinal', 'romanian aims first title arriving basel without career win top opponent', 'copil two also beating', 'marin cilic second round', 'copil fired aces past zverev never dropped serve clinching hours forehand volley winner break zverev second time semifinal', 'came two rounds qualifying last weekend reach basel main draw including beating zverev older brother mischa', 'federer easier time previous match medvedev three setter shanghai two weeks ago', 'roger federer revealed organisers launched condensed davis cup gave three days decide would commit controversial competition', 'speaking swiss indoors tournament play sundays final romanian qualifier marius copil world number three said given impossibly short time frame make decision opted commitment', 'left three days decide federer said', 'time consult people consult', 'could make decision time told wanted', 'time grand slam champion voiced doubts wisdom one week format introduced organisers kosmos promised international tennis federation billion prize money next quarter century', 'competition set feature countries november finals madrid next year replace classic home away ties played four times per year decades', 'kosmos headed barcelona footballer gerard pique hoping fellow spaniard rafael nadal play upcoming event', 'novak djokovic said give precedence atp intended launch defunct world team cup january various australian venues', 'major players feel big event late november combined one january australian open mean much tennis little rest', 'federer said earlier month shanghai chances playing davis cup non existent', 'highly doubt course', 'see happens said', 'think designed anyhow', 'designed future generation players', 'argentina britain received wild cards new look event compete along four semi finalists teams win qualifying rounds next february', 'like kind pressure federer said deadline kosmos handed', 'kei nishikori try end long losing streak atp finals kevin anderson go second title year erste bank open sunday', 'fifth seeded nishikori reached third final beating mikhail kukushkin kazakhstan semifinals', 'winner atp events nishikori triumphed since winning memphis february', 'lost eight straight finals since', 'second seeded anderson defeated fernando verdasco', 'anderson shot fifth career title second year winning new york february', 'nishikori leads anderson career matchups south african previous meeting year', 'victory sunday anderson qualify atp finals', 'currently ninth place nishikori win could move within points cut eight man event london next month', 'nishikori held serve throughout kukushkin came qualifying', 'used first break point close first set going second wrapping win first match point', 'verdasco anderson hit nine aces opening set', 'spaniard broke anderson twice second get another chance south african serve final set', 'federer first broke tour two decades ago since gone enjoy glittering career', 'time grand slam winner chasing th atp title swiss indoors week faces jan lennard struff second round thursday pm bst', 'davenport enjoyed success late third final major tournament win came australian open', 'claims mentality professional tennis players slowly began change new millennium', 'seems pretty friendly right said davenport', 'think really nice environment great atmosphere especially veteran players helping younger players', 'pleasant atmosphere say around locker rooms', 'felt like best weeks get know players playing fed cup weeks olympic weeks necessarily tournaments', 'even though maybe smaller teams still think kept quite bit', 'always really feel like mid years huge shift attitudes top players friendly giving lot players like roger coming', 'felt like really kind changed people little bit definitely lot quiet started become better', 'meanwhile federer hoping improve service game hunts ninth swiss indoors title week', 'serve well first round opponent filip kranjovic federer said', 'think misfiring corners hitting lines enough', 'clearly make life difficult still break points things could ended quickly today even though best serve percentage stats', 'maybe exactly caught eventually', 'getting used', 'first rounds tricky', 'nadal played tennis since forced retire us open semi finals juan martin del porto knee injury', 'world forced miss spain davis cup clash france asian hard court season', 'atp world tour finals due begin next month nadal ready prove fitness season ending event arena', 'nadal flew paris friday footage paris masters official twitter account shows spaniard smiling strides onto court practice', 'paris masters draw made nadal start campaign tuesday wednesday either fernando verdasco jeremy chardy', 'nadal could play defending champion jack sock third round potential quarter final either borna coric dominic thiem', 'nadal appearance paris big boost tournament organisers could see roger federer withdraw', 'federer action swiss indoors basel reaches final could pull paris bid stay fresh london', 'stands federer draw scheduled face either former world milos raonic jo wilfried tsonga second round', 'federer projected route paris final could also lead matches kevin anderson novak djokovic', 'djokovic could play marco cecchinato second round', 'british kyle edmund th seed paris get underway round two either karen khachanov filip krajinovic', 'tennis giveth tennis taketh away', 'end season finally sight many players defending losing huge chunks points singapore zhuhai london podcast co hosts nina pantic irina falconi discuss art defending points', 'secret jack sock struggled singles court year record', 'could lose points next weeks instead focusing negative perspective', 'let also forget two grand slam doubles triumphs season', 'two players stefanos tsitsipas kyle edmund first career atp titles last week', 'big deal never forget first', 'irina looks back wta title win bogota tells unforgettable story semifinal drama', 'singapore one biggest storylines aside matches course court coaching debate', 'nina irina give opinions coaching look like future tours', 'federer swiss indoors last week beating romanian qualifier marius copil final', 'year old claimed th atp title hunting century french capital week', 'federer handed difficult draw could could come across kevin anderson novak djokovic rafael nadal latter rounds', 'first time grand slam winner wants train paris masters court afternoon deciding whether appear opening match either milos raonic jo wilfried tsonga', 'monday free look feel federer said winning swiss indoors', 'tuesday fly paris train afternoon ready first match wednesday night', 'felt good week better every day', 'also impression stage might better play matches train', 'long fear injury play', 'federer success basel last week ninth time hometown tournament', 'delighted watched family friends purchased tickets final dearest', 'children parents sister team federer added', 'always emotional thank team', 'sometimes tilts emotions sometimes stumble', 'means world', 'makes incredibly happy win home tournament make people happy', 'know maybe last title today try lot absorb enjoy moments much consciously', 'maybe celebrate last title', 'touching moments seeing ball children standing ovations familiar faces audience', 'always easy last weeks']\n"
     ]
    }
   ],
   "source": [
    "# remove stopwords from the sentences\n",
    "clean_sentences = [remove_stopwords(r.split()) for r in clean_sentences]\n",
    "print(clean_sentences)"
   ]
  },
  {
   "cell_type": "code",
   "execution_count": 1,
   "metadata": {
    "colab": {
     "base_uri": "https://localhost:8080/",
     "height": 290
    },
    "colab_type": "code",
    "id": "a5Skjq6DJUtQ",
    "outputId": "eeba2eed-d0ed-42f8-f45f-dea8a99bcb5b"
   },
   "outputs": [
    {
     "name": "stderr",
     "output_type": "stream",
     "text": [
      "'wget' is not recognized as an internal or external command,\n",
      "operable program or batch file.\n"
     ]
    }
   ],
   "source": [
    "# download pretrained GloVe word embeddings\n",
    "!wget http://nlp.stanford.edu/data/glove.6B.zip"
   ]
  },
  {
   "cell_type": "code",
   "execution_count": 63,
   "metadata": {
    "colab": {
     "base_uri": "https://localhost:8080/",
     "height": 108
    },
    "colab_type": "code",
    "id": "K_GXHzwDJq-2",
    "outputId": "9387687a-04f5-41d9-f525-b6bca3b8f97c"
   },
   "outputs": [
    {
     "name": "stderr",
     "output_type": "stream",
     "text": [
      "c:\\users\\georgivankov\\source\\repos\\desktop-app\\venv\\lib\\site-packages\\ipykernel_launcher.py:3: DeprecationWarning: Call to deprecated `__getitem__` (Method will be removed in 4.0.0, use self.wv.__getitem__() instead).\n",
      "  This is separate from the ipykernel package so we can avoid doing imports until\n"
     ]
    }
   ],
   "source": [
    "from gensim.models import Word2Vec\n",
    "w2v=Word2Vec(clean_sentences,size=1,min_count=1,iter=1000)\n",
    "sentence_embeddings=[[w2v[word][0] for word in words] for words in clean_sentences]\n",
    "max_len=max([len(tokens) for tokens in clean_sentences])\n",
    "sentence_embeddings=[np.pad(embedding,(0,max_len-len(embedding)),'constant') for embedding in sentence_embeddings]"
   ]
  },
  {
   "cell_type": "code",
   "execution_count": 65,
   "metadata": {
    "colab": {},
    "colab_type": "code",
    "id": "TsXIa7CBKsWQ"
   },
   "outputs": [
    {
     "name": "stdout",
     "output_type": "stream",
     "text": [
      "[[1.         0.45513931 0.37068364 ... 0.67945898 0.39003748 0.73701996]\n",
      " [0.45513931 1.         0.81027013 ... 0.67560083 0.84937739 0.61907011]\n",
      " [0.37068364 0.81027013 1.         ... 0.54646081 0.95334166 0.50282842]\n",
      " ...\n",
      " [0.67945898 0.67560083 0.54646081 ... 1.         0.57329094 0.91837448]\n",
      " [0.39003748 0.84937739 0.95334166 ... 0.57329094 1.         0.52753711]\n",
      " [0.73701996 0.61907011 0.50282842 ... 0.91837448 0.52753711 1.        ]]\n"
     ]
    }
   ],
   "source": [
    "# Extract word vectors\n",
    "#word_embeddings = {}\n",
    "#f = open('glove.6B.100d.txt', encoding='utf-8')\n",
    "#for line in f:\n",
    "#    values = line.split()\n",
    "#    word = values[0]\n",
    "#    coefs = np.asarray(values[1:], dtype='float32')\n",
    "#    word_embeddings[word] = coefs\n",
    "#f.close()\n",
    "from scipy import spatial\n",
    "similarity_matrix = np.zeros([len(clean_sentences), len(clean_sentences)])\n",
    "for i,row_embedding in enumerate(sentence_embeddings):\n",
    "    for j,column_embedding in enumerate(sentence_embeddings):\n",
    "        similarity_matrix[i][j]=1-spatial.distance.cosine(row_embedding,column_embedding)\n",
    "print(similarity_matrix)"
   ]
  },
  {
   "cell_type": "code",
   "execution_count": 19,
   "metadata": {
    "colab": {},
    "colab_type": "code",
    "id": "N3VtdSPyKxUZ"
   },
   "outputs": [
    {
     "ename": "AttributeError",
     "evalue": "'list' object has no attribute 'get'",
     "output_type": "error",
     "traceback": [
      "\u001b[1;31m---------------------------------------------------------------------------\u001b[0m",
      "\u001b[1;31mAttributeError\u001b[0m                            Traceback (most recent call last)",
      "\u001b[1;32m<ipython-input-19-ab687dcc00ff>\u001b[0m in \u001b[0;36m<module>\u001b[1;34m\u001b[0m\n\u001b[0;32m      2\u001b[0m \u001b[1;32mfor\u001b[0m \u001b[0mi\u001b[0m \u001b[1;32min\u001b[0m \u001b[0mclean_sentences\u001b[0m\u001b[1;33m:\u001b[0m\u001b[1;33m\u001b[0m\u001b[1;33m\u001b[0m\u001b[0m\n\u001b[0;32m      3\u001b[0m   \u001b[1;32mif\u001b[0m \u001b[0mlen\u001b[0m\u001b[1;33m(\u001b[0m\u001b[0mi\u001b[0m\u001b[1;33m)\u001b[0m \u001b[1;33m!=\u001b[0m \u001b[1;36m0\u001b[0m\u001b[1;33m:\u001b[0m\u001b[1;33m\u001b[0m\u001b[1;33m\u001b[0m\u001b[0m\n\u001b[1;32m----> 4\u001b[1;33m     \u001b[0mv\u001b[0m \u001b[1;33m=\u001b[0m \u001b[0msum\u001b[0m\u001b[1;33m(\u001b[0m\u001b[1;33m[\u001b[0m\u001b[0msentence_embeddings\u001b[0m\u001b[1;33m.\u001b[0m\u001b[0mget\u001b[0m\u001b[1;33m(\u001b[0m\u001b[0mw\u001b[0m\u001b[1;33m,\u001b[0m \u001b[0mnp\u001b[0m\u001b[1;33m.\u001b[0m\u001b[0mzeros\u001b[0m\u001b[1;33m(\u001b[0m\u001b[1;33m(\u001b[0m\u001b[1;36m100\u001b[0m\u001b[1;33m,\u001b[0m\u001b[1;33m)\u001b[0m\u001b[1;33m)\u001b[0m\u001b[1;33m)\u001b[0m \u001b[1;32mfor\u001b[0m \u001b[0mw\u001b[0m \u001b[1;32min\u001b[0m \u001b[0mi\u001b[0m\u001b[1;33m.\u001b[0m\u001b[0msplit\u001b[0m\u001b[1;33m(\u001b[0m\u001b[1;33m)\u001b[0m\u001b[1;33m]\u001b[0m\u001b[1;33m)\u001b[0m\u001b[1;33m/\u001b[0m\u001b[1;33m(\u001b[0m\u001b[0mlen\u001b[0m\u001b[1;33m(\u001b[0m\u001b[0mi\u001b[0m\u001b[1;33m.\u001b[0m\u001b[0msplit\u001b[0m\u001b[1;33m(\u001b[0m\u001b[1;33m)\u001b[0m\u001b[1;33m)\u001b[0m\u001b[1;33m+\u001b[0m\u001b[1;36m0.001\u001b[0m\u001b[1;33m)\u001b[0m\u001b[1;33m\u001b[0m\u001b[1;33m\u001b[0m\u001b[0m\n\u001b[0m\u001b[0;32m      5\u001b[0m   \u001b[1;32melse\u001b[0m\u001b[1;33m:\u001b[0m\u001b[1;33m\u001b[0m\u001b[1;33m\u001b[0m\u001b[0m\n\u001b[0;32m      6\u001b[0m     \u001b[0mv\u001b[0m \u001b[1;33m=\u001b[0m \u001b[0mnp\u001b[0m\u001b[1;33m.\u001b[0m\u001b[0mzeros\u001b[0m\u001b[1;33m(\u001b[0m\u001b[1;33m(\u001b[0m\u001b[1;36m100\u001b[0m\u001b[1;33m,\u001b[0m\u001b[1;33m)\u001b[0m\u001b[1;33m)\u001b[0m\u001b[1;33m\u001b[0m\u001b[1;33m\u001b[0m\u001b[0m\n",
      "\u001b[1;32m<ipython-input-19-ab687dcc00ff>\u001b[0m in \u001b[0;36m<listcomp>\u001b[1;34m(.0)\u001b[0m\n\u001b[0;32m      2\u001b[0m \u001b[1;32mfor\u001b[0m \u001b[0mi\u001b[0m \u001b[1;32min\u001b[0m \u001b[0mclean_sentences\u001b[0m\u001b[1;33m:\u001b[0m\u001b[1;33m\u001b[0m\u001b[1;33m\u001b[0m\u001b[0m\n\u001b[0;32m      3\u001b[0m   \u001b[1;32mif\u001b[0m \u001b[0mlen\u001b[0m\u001b[1;33m(\u001b[0m\u001b[0mi\u001b[0m\u001b[1;33m)\u001b[0m \u001b[1;33m!=\u001b[0m \u001b[1;36m0\u001b[0m\u001b[1;33m:\u001b[0m\u001b[1;33m\u001b[0m\u001b[1;33m\u001b[0m\u001b[0m\n\u001b[1;32m----> 4\u001b[1;33m     \u001b[0mv\u001b[0m \u001b[1;33m=\u001b[0m \u001b[0msum\u001b[0m\u001b[1;33m(\u001b[0m\u001b[1;33m[\u001b[0m\u001b[0msentence_embeddings\u001b[0m\u001b[1;33m.\u001b[0m\u001b[0mget\u001b[0m\u001b[1;33m(\u001b[0m\u001b[0mw\u001b[0m\u001b[1;33m,\u001b[0m \u001b[0mnp\u001b[0m\u001b[1;33m.\u001b[0m\u001b[0mzeros\u001b[0m\u001b[1;33m(\u001b[0m\u001b[1;33m(\u001b[0m\u001b[1;36m100\u001b[0m\u001b[1;33m,\u001b[0m\u001b[1;33m)\u001b[0m\u001b[1;33m)\u001b[0m\u001b[1;33m)\u001b[0m \u001b[1;32mfor\u001b[0m \u001b[0mw\u001b[0m \u001b[1;32min\u001b[0m \u001b[0mi\u001b[0m\u001b[1;33m.\u001b[0m\u001b[0msplit\u001b[0m\u001b[1;33m(\u001b[0m\u001b[1;33m)\u001b[0m\u001b[1;33m]\u001b[0m\u001b[1;33m)\u001b[0m\u001b[1;33m/\u001b[0m\u001b[1;33m(\u001b[0m\u001b[0mlen\u001b[0m\u001b[1;33m(\u001b[0m\u001b[0mi\u001b[0m\u001b[1;33m.\u001b[0m\u001b[0msplit\u001b[0m\u001b[1;33m(\u001b[0m\u001b[1;33m)\u001b[0m\u001b[1;33m)\u001b[0m\u001b[1;33m+\u001b[0m\u001b[1;36m0.001\u001b[0m\u001b[1;33m)\u001b[0m\u001b[1;33m\u001b[0m\u001b[1;33m\u001b[0m\u001b[0m\n\u001b[0m\u001b[0;32m      5\u001b[0m   \u001b[1;32melse\u001b[0m\u001b[1;33m:\u001b[0m\u001b[1;33m\u001b[0m\u001b[1;33m\u001b[0m\u001b[0m\n\u001b[0;32m      6\u001b[0m     \u001b[0mv\u001b[0m \u001b[1;33m=\u001b[0m \u001b[0mnp\u001b[0m\u001b[1;33m.\u001b[0m\u001b[0mzeros\u001b[0m\u001b[1;33m(\u001b[0m\u001b[1;33m(\u001b[0m\u001b[1;36m100\u001b[0m\u001b[1;33m,\u001b[0m\u001b[1;33m)\u001b[0m\u001b[1;33m)\u001b[0m\u001b[1;33m\u001b[0m\u001b[1;33m\u001b[0m\u001b[0m\n",
      "\u001b[1;31mAttributeError\u001b[0m: 'list' object has no attribute 'get'"
     ]
    }
   ],
   "source": [
    "sentence_vectors = []\n",
    "for i in clean_sentences:\n",
    "  if len(i) != 0:\n",
    "    v = sum([sentence_embeddings.get(w, np.zeros((100,))) for w in i.split()])/(len(i.split())+0.001)\n",
    "  else:\n",
    "    v = np.zeros((100,))\n",
    "  sentence_vectors.append(v)"
   ]
  },
  {
   "cell_type": "code",
   "execution_count": 66,
   "metadata": {
    "colab": {
     "base_uri": "https://localhost:8080/",
     "height": 35
    },
    "colab_type": "code",
    "id": "e3Iww3I9LYhJ",
    "outputId": "362a7dd8-b1bf-4478-ef59-34728fbbd8b2"
   },
   "outputs": [
    {
     "name": "stdout",
     "output_type": "stream",
     "text": [
      "{0: 0.005948005053888352, 1: 0.00891760531999151, 2: 0.008901454632302054, 3: 0.0075756292444748245, 4: 0.007325331599900066, 5: 0.00748350476683107, 6: 0.008470062936682777, 7: 0.008429314508155513, 8: 0.007483416364336947, 9: 0.008783881479008637, 10: 0.007949387247807176, 11: 0.0012589173310952584, 12: 0.008852971091633528, 13: 0.008432881946601604, 14: 0.00900487903980912, 15: 0.008873965805962399, 16: 0.007891569602744754, 17: 0.007383884404339074, 18: 0.008220851458801578, 19: 0.00888440749604094, 20: 0.009002807856183945, 21: 0.008841547830774437, 22: 0.00872226353475364, 23: 0.008736607809471213, 24: 0.008999244681981907, 25: 0.007383842361576401, 26: 0.007574879354994953, 27: 0.008195383302266856, 28: 0.008524331488615783, 29: 0.008979745905523754, 30: 0.008152581580429624, 31: 0.00720427405524826, 32: 0.008292503369948629, 33: 0.007820322124818297, 34: 0.008342450249464665, 35: 0.007204174783691504, 36: 0.007981980124307854, 37: 0.008611577423877678, 38: 0.00842792070828767, 39: 0.008502505887174328, 40: 0.009001631735628606, 41: 0.00702080247276906, 42: 0.006597737062012181, 43: 0.0072699491263221675, 44: 0.008239052722594169, 45: 0.00806829465634131, 46: 0.008883325885974765, 47: 0.008470293792373561, 48: 0.008840547374071691, 49: 0.009008159224353449, 50: 0.008136712790592537, 51: 0.008774949856633405, 52: 0.0089974854637003, 53: 0.00900127572121059, 54: 0.008590798532576311, 55: 0.008713251257079342, 56: 0.008921245900660098, 57: 0.008957969202570656, 58: 0.008617820978978888, 59: 0.008922979111301441, 60: 0.008999697793276978, 61: 0.008329520279819482, 62: 0.008926934837926283, 63: 0.008974831341034379, 64: 0.008582464054198144, 65: 0.008741031579557274, 66: 0.008607704029715035, 67: 0.008736021744254268, 68: 0.008928454645939093, 69: 0.00841688497683353, 70: 0.008862900268635608, 71: 0.008944772351561832, 72: 0.008953020693072283, 73: 0.008640852037139157, 74: 0.008271902942440828, 75: 0.008076934318058582, 76: 0.005947521099623535, 77: 0.0070191095069878215, 78: 0.008796099786156225, 79: 0.00899749367633125, 80: 0.008784336546546806, 81: 0.008210185498763987, 82: 0.00863951703163705, 83: 0.008378709009506824, 84: 0.008903934694193061, 85: 0.008888214675557908, 86: 0.008674342133399984, 87: 0.008853743138265055, 88: 0.008775754257638402, 89: 0.008743495782473212, 90: 0.008139118212606036, 91: 0.007268868420336083, 92: 0.008835954455982451, 93: 0.009002367389643625, 94: 0.008881501766465036, 95: 0.008991783920071248, 96: 0.007825082760032444, 97: 0.008993120111852222, 98: 0.009001300768469712, 99: 0.008904725795557882, 100: 0.008982748732121933, 101: 0.008989282485854285, 102: 0.008446683938916658, 103: 0.007648443969591707, 104: 0.008918153116592355, 105: 0.009003815848900646, 106: 0.008079090879349772, 107: 0.008859140199731516, 108: 0.007269847586894915, 109: 0.008960160273714664, 110: 0.008974407135009656, 111: 0.008587560071956837, 112: 0.007819927961541198, 113: 0.008585219911175168, 114: 0.005754764454695309, 115: 0.00894911090297324, 116: 0.00900880451047428, 117: 0.007742300298411518, 118: 0.008981666340085652, 119: 0.00738151441890484}\n"
     ]
    }
   ],
   "source": [
    "import networkx as nx\n",
    "nx_graph = nx.from_numpy_array(similarity_matrix)\n",
    "scores = nx.pagerank_numpy(nx_graph)\n",
    "print(scores)"
   ]
  },
  {
   "cell_type": "markdown",
   "metadata": {
    "colab_type": "text",
    "id": "1bh9L2pqL3gp"
   },
   "source": [
    "The next step is to find similarities among the sentences. We will use cosine similarity to find similarity between a pair of sentences. Let's create an empty similarity matrix for this task and populate it with cosine similarities of the sentences."
   ]
  },
  {
   "cell_type": "code",
   "execution_count": null,
   "metadata": {
    "colab": {},
    "colab_type": "code",
    "id": "mm_fNZpOLxbM"
   },
   "outputs": [],
   "source": [
    "# similarity matrix\n",
    "sim_mat = np.zeros([len(sentences), len(sentences)])"
   ]
  },
  {
   "cell_type": "code",
   "execution_count": 30,
   "metadata": {
    "colab": {},
    "colab_type": "code",
    "id": "oVeHkvf0MO1j"
   },
   "outputs": [
    {
     "ename": "ModuleNotFoundError",
     "evalue": "No module named 'sklearn'",
     "output_type": "error",
     "traceback": [
      "\u001b[1;31m---------------------------------------------------------------------------\u001b[0m",
      "\u001b[1;31mModuleNotFoundError\u001b[0m                       Traceback (most recent call last)",
      "\u001b[1;32m<ipython-input-30-743ac88bcf9a>\u001b[0m in \u001b[0;36m<module>\u001b[1;34m\u001b[0m\n\u001b[1;32m----> 1\u001b[1;33m \u001b[1;32mfrom\u001b[0m \u001b[0msklearn\u001b[0m\u001b[1;33m.\u001b[0m\u001b[0mmetrics\u001b[0m\u001b[1;33m.\u001b[0m\u001b[0mpairwise\u001b[0m \u001b[1;32mimport\u001b[0m \u001b[0mcosine_similarity\u001b[0m\u001b[1;33m\u001b[0m\u001b[1;33m\u001b[0m\u001b[0m\n\u001b[0m",
      "\u001b[1;31mModuleNotFoundError\u001b[0m: No module named 'sklearn'"
     ]
    }
   ],
   "source": [
    "from sklearn.metrics.pairwise import cosine_similarity"
   ]
  },
  {
   "cell_type": "code",
   "execution_count": null,
   "metadata": {
    "colab": {},
    "colab_type": "code",
    "id": "xTAAe-q3L4xM"
   },
   "outputs": [],
   "source": [
    "for i in range(len(sentences)):\n",
    "  for j in range(len(sentences)):\n",
    "    if i != j:\n",
    "      sim_mat[i][j] = cosine_similarity(sentence_vectors[i].reshape(1,100), sentence_vectors[j].reshape(1,100))[0,0]"
   ]
  },
  {
   "cell_type": "code",
   "execution_count": null,
   "metadata": {
    "colab": {},
    "colab_type": "code",
    "id": "CAQUnNRWL_tA"
   },
   "outputs": [],
   "source": [
    "import networkx as nx\n",
    "\n",
    "nx_graph = nx.from_numpy_array(sim_mat)\n",
    "scores = nx.pagerank(nx_graph)"
   ]
  },
  {
   "cell_type": "code",
   "execution_count": 50,
   "metadata": {
    "colab": {},
    "colab_type": "code",
    "id": "aQCcvT3yO5Xj"
   },
   "outputs": [],
   "source": [
    "ranked_sentences = sorted(((scores[i],s) for i,s in enumerate(sentences)), reverse=True)\n",
    "print(ranked_sentences)"
   ]
  },
  {
   "cell_type": "code",
   "execution_count": 52,
   "metadata": {
    "colab": {
     "base_uri": "https://localhost:8080/",
     "height": 219
    },
    "colab_type": "code",
    "id": "jwxtPBlgO_Gk",
    "outputId": "94f7a32b-fcd3-4295-ec49-4fb69e49342e"
   },
   "outputs": [
    {
     "name": "stdout",
     "output_type": "stream",
     "text": [
      "\"I do not know if it's maybe my last title, so today I try a lot more to absorb that and enjoy the moments much more consciously.\n",
      "A winner of 11 ATP events, Nishikori hasn't triumphed since winning in Memphis in February 2016.\n",
      "I have friends that have completely different jobs and interests, and I've met them in very different parts of my life.\n",
      "\"On Tuesday I will fly to Paris and train in the afternoon to be ready for my first match on Wednesday night.\n",
      "Federer dominated the 20th-ranked Medvedev and had his first match-point chance to break serve again at 5-1.\n",
      "He could lose 1,400 points in the next few weeks, but instead of focusing on the negative, it can all be about perspective (06:28).\n",
      "Federer said earlier this month in Shanghai in that his chances of playing the Davis Cup were all but non-existent.\n",
      "In Singapore, one of the biggest storylines (aside from the matches, of course) has been the on-court coaching debate.\n",
      "Nishikori leads Anderson 4-2 on career matchups, but the South African won their only previous meeting this year.\n",
      "Federer, 37, first broke through on tour over two decades ago and he has since gone on to enjoy a glittering career.\n"
     ]
    }
   ],
   "source": [
    "# Specify number of sentences to form the summary\n",
    "sn = 10\n",
    "\n",
    "# Generate summary\n",
    "for i in range(sn):\n",
    "  print(ranked_sentences[i][1])"
   ]
  },
  {
   "cell_type": "markdown",
   "metadata": {
    "colab_type": "text",
    "id": "zIkZr_lds-kr"
   },
   "source": [
    "Find the original article here https://www.analyticsvidhya.com/blog/2018/11/introduction-text-summarization-textrank-python/"
   ]
  },
  {
   "cell_type": "code",
   "execution_count": null,
   "metadata": {},
   "outputs": [],
   "source": []
  }
 ],
 "metadata": {
  "accelerator": "GPU",
  "colab": {
   "collapsed_sections": [],
   "include_colab_link": true,
   "name": "TestRank_Text_Summarization.ipynb",
   "provenance": [],
   "version": "0.3.2"
  },
  "kernelspec": {
   "display_name": "Python 3",
   "language": "python",
   "name": "python3"
  },
  "language_info": {
   "codemirror_mode": {
    "name": "ipython",
    "version": 3
   },
   "file_extension": ".py",
   "mimetype": "text/x-python",
   "name": "python",
   "nbconvert_exporter": "python",
   "pygments_lexer": "ipython3",
   "version": "3.7.4"
  }
 },
 "nbformat": 4,
 "nbformat_minor": 4
}
